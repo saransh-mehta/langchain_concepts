{
 "cells": [
  {
   "cell_type": "markdown",
   "id": "57b7546a-9d81-4041-b798-f30c4618174d",
   "metadata": {},
   "source": [
    "# LanGraph for conversational AI Agent\n",
    "\n",
    "define the behavior of your agents using three key components in LangGraph:\n",
    "\n",
    "`State`: A shared data structure that represents the current snapshot of your application. It can be any Python type, but is typically a TypedDict or Pydantic BaseModel. The State consists of the schema of the graph as well as reducer functions which specify how to apply updates to the state. \n",
    "\n",
    "`Nodes`: Python functions that encode the logic of your agents. They receive the current State as input, perform some computation or side-effect, and return an updated State.\n",
    "\n",
    "`Edges`: Python functions that determine which Node to execute next based on the current State. They can be conditional branches or fixed transitions.\n",
    "\n",
    "`Reducers`: Reducers are key to understanding how updates from nodes are applied to the State. Each key in the State has its own independent reducer function. If no reducer function is explicitly specified then it is assumed that all updates to that key should override it.\n",
    "\n",
    "\n",
    "When a Node completes its operation, it sends messages along one or more edges to other node(s). These recipient nodes then execute their functions, pass the resulting messages to the next set of nodes, and the process continues"
   ]
  },
  {
   "cell_type": "code",
   "execution_count": 1,
   "id": "c631f4bf-b827-4c77-8e7f-cee99c6aaafc",
   "metadata": {},
   "outputs": [],
   "source": [
    "import json\n",
    "from typing import Annotated\n",
    "from typing_extensions import TypedDict\n",
    "\n",
    "from langgraph.graph import StateGraph, START, END\n",
    "from langgraph.graph.message import add_messages"
   ]
  },
  {
   "cell_type": "code",
   "execution_count": 2,
   "id": "264e60eb-b292-497a-ad38-fd4f06406716",
   "metadata": {},
   "outputs": [],
   "source": [
    "# since state is the most important piece in the flow, we define the state class first\n",
    "\n",
    "class State(TypedDict):\n",
    "    messages: Annotated[list, add_messages]\n",
    "    # state holds the list of messages, when new message is given to state, \n",
    "    # reducer function (add_messages), append that message to the list\n",
    "    # keeping all the previous conversation \n",
    "    # if no reducer fn, then it overwrites, instead of appending"
   ]
  },
  {
   "cell_type": "code",
   "execution_count": 4,
   "id": "467333d4-671d-4463-adc7-561f547361f7",
   "metadata": {},
   "outputs": [],
   "source": [
    "graph_builder = StateGraph(State)"
   ]
  },
  {
   "cell_type": "code",
   "execution_count": 6,
   "id": "4b2884e2-552c-449c-8547-1b0773832953",
   "metadata": {},
   "outputs": [],
   "source": [
    "# next we can define our llm model to use\n",
    "import os\n",
    "from api_keys import GROQ_API_KEY\n",
    "from langchain.chat_models import init_chat_model\n",
    "\n",
    "os.environ['GROQ_API_KEY'] = GROQ_API_KEY\n",
    "\n",
    "llm_model = init_chat_model(model=\"llama3-8b-8192\", model_provider = \"groq\")"
   ]
  },
  {
   "cell_type": "code",
   "execution_count": 6,
   "id": "d51ccd45-c869-4d14-b710-e2c2f6fd21b5",
   "metadata": {},
   "outputs": [
    {
     "data": {
      "text/plain": [
       "<langgraph.graph.state.StateGraph at 0x116633490>"
      ]
     },
     "execution_count": 6,
     "metadata": {},
     "output_type": "execute_result"
    }
   ],
   "source": [
    "# we can create first node as chat node where llm will be used\n",
    "def chat_node(state: State):\n",
    "    # this node will take the stored messages in state and run \n",
    "    # chat llm on it\n",
    "    result = {'messages': [llm_model.invoke(state[\"messages\"])]}\n",
    "    return result\n",
    "\n",
    "# add this node to the graph, first argument would be name of node\n",
    "graph_builder.add_node(\"chat_node\", chat_node)"
   ]
  },
  {
   "cell_type": "code",
   "execution_count": 7,
   "id": "33165417-aec9-4857-88cd-4b0bc2b58e53",
   "metadata": {},
   "outputs": [
    {
     "data": {
      "text/plain": [
       "<langgraph.graph.state.StateGraph at 0x116633490>"
      ]
     },
     "execution_count": 7,
     "metadata": {},
     "output_type": "execute_result"
    }
   ],
   "source": [
    "# next we would want this chat node to be the first start entry point\n",
    "# and also the end point (as now we just would have one node)\n",
    "graph_builder.add_edge(START, \"chat_node\")\n",
    "graph_builder.add_edge(\"chat_node\", END)"
   ]
  },
  {
   "cell_type": "code",
   "execution_count": 8,
   "id": "c77f7f27-3fa4-4e51-bd6e-35a1325afaa7",
   "metadata": {},
   "outputs": [],
   "source": [
    "# now we have the basic graph, START-> CHAT_NODE -> END\n",
    "# we can compile the graph\n",
    "graph = graph_builder.compile()"
   ]
  },
  {
   "attachments": {
    "65135492-57c7-4022-bdf3-120da604d1d8.png": {
     "image/png": "[encoded data removed]"
    }
   },
   "cell_type": "markdown",
   "id": "bd3b2b74-4552-46fa-9512-95d926078ab8",
   "metadata": {},
   "source": [
    "![basic_chat.png](attachment:65135492-57c7-4022-bdf3-120da604d1d8.png)"
   ]
  },
  {
   "cell_type": "markdown",
   "id": "0d938382-31f9-447c-9fed-53a18101a1fa",
   "metadata": {},
   "source": [
    "# Graph Streaming\n",
    "To traverse through the graph, Langchain provides streaming methods\n",
    "`.stream` and `.astream` are sync and async methods for streaming back outputs from a graph run. There are several different modes you can specify when calling these methods (e.g. `graph.stream(..., mode=\"...\")):\n",
    "\n",
    "`\"values\"`: This streams the full value of the state after each step of the graph.\n",
    "\n",
    "`\"updates\"`: This streams the updates to the state after each step of the graph. If multiple updates are made in the same step (e.g. multiple nodes are run) then those updates are streamed separately.\n",
    "\n",
    "`\"custom\"`: This streams custom data from inside your graph nodes.\n",
    "\n",
    "`\"messages\"`: This streams LLM tokens and metadata for the graph node where LLM is invoked."
   ]
  },
  {
   "cell_type": "code",
   "execution_count": 123,
   "id": "420844c2-4d61-4784-83b3-866ecdb84591",
   "metadata": {},
   "outputs": [],
   "source": [
    "from langchain_core.messages import HumanMessage, SystemMessage, ToolMessage, AIMessage\n",
    "def run_graph(user_input: str):\n",
    "    for event in graph.stream(\n",
    "        {\"messages\": [HumanMessage(content = user_input)]}):\n",
    "        for value in event.values():\n",
    "            # printing latest message in state\n",
    "            # here, be careful not the return, as it will break the event cycle\n",
    "            # and the process will stop after passing through first node\n",
    "\n",
    "            #also we don't need intermediate tool outputs\n",
    "            node_result = value[\"messages\"][-1]\n",
    "            if isinstance(node_result, (HumanMessage, AIMessage)) and node_result.content:\n",
    "                print(\"Chat: {}\".format(node_result.content))"
   ]
  },
  {
   "cell_type": "code",
   "execution_count": 11,
   "id": "dbbf4356-fb68-42f4-935a-2cdceac44924",
   "metadata": {},
   "outputs": [
    {
     "name": "stdin",
     "output_type": "stream",
     "text": [
      "User:  q\n"
     ]
    }
   ],
   "source": [
    "# running the chat bot, \n",
    "while True:\n",
    "    user_input = str(input(\"User: \"))\n",
    "    if user_input.lower() in [\"quit\", \"q\", \"exit\"]:\n",
    "        break\n",
    "    run_graph(user_input)"
   ]
  },
  {
   "cell_type": "markdown",
   "id": "f59ac7e3-d2ed-4ea6-b906-4610b303e4ec",
   "metadata": {},
   "source": [
    "# Tool calling in graph \n",
    "we need to create a function to actually run the tools if they are called. We'll do this by adding the tools to a new node. we implement a `ToolNode` that checks the most recent message in the state and calls tools if the message contains `tool_calls`\n",
    "ater replace this with LangGraph's prebuilt ToolNode to speed things up\n",
    "\n",
    "We will use a web search tool with integration in lang chain to give the conversational system to search web and bring information. `TavilySearchResults`"
   ]
  },
  {
   "cell_type": "code",
   "execution_count": 124,
   "id": "67dd727e-cd84-483e-8c3d-0fc304a2edf0",
   "metadata": {},
   "outputs": [],
   "source": [
    "from api_keys import TAVILY_KEY\n",
    "os.environ['TAVILY_API_KEY'] = TAVILY_KEY"
   ]
  },
  {
   "cell_type": "code",
   "execution_count": 125,
   "id": "a2a30d99-870d-45da-8a89-b3bc37bb1795",
   "metadata": {},
   "outputs": [],
   "source": [
    "from langchain_tavily import TavilySearch\n",
    "\n",
    "tavily_search_tool = TavilySearch(\n",
    "    max_results=2,\n",
    "    topic=\"general\",\n",
    ")"
   ]
  },
  {
   "cell_type": "code",
   "execution_count": 126,
   "id": "8995437f-d84a-4be7-b860-cc2fc30c9d40",
   "metadata": {},
   "outputs": [],
   "source": [
    "llm_tools = [tavily_search_tool]"
   ]
  },
  {
   "cell_type": "code",
   "execution_count": 127,
   "id": "ae9502fe-7fdd-4cbb-a3f4-b14743970315",
   "metadata": {},
   "outputs": [],
   "source": [
    "# binding this tool to llm \n",
    "llm_with_search = llm_model.bind_tools(llm_tools)"
   ]
  },
  {
   "cell_type": "code",
   "execution_count": 128,
   "id": "68f19886-420a-4438-8bc1-6535ef388160",
   "metadata": {},
   "outputs": [
    {
     "data": {
      "text/plain": [
       "<langgraph.graph.state.StateGraph at 0x10c555350>"
      ]
     },
     "execution_count": 128,
     "metadata": {},
     "output_type": "execute_result"
    }
   ],
   "source": [
    "# redefing the graph with this\n",
    "graph_builder = StateGraph(State)\n",
    "def chat_node(state: State):\n",
    "    # this node will take the stored messages in state and run \n",
    "    # chat llm on it\n",
    "    print(\"into chat node\")\n",
    "    result = {'messages': [llm_with_search.invoke(state[\"messages\"])]}\n",
    "    #print(\"chat node result: \", result)\n",
    "    return result\n",
    "\n",
    "# the first node would be the start node which will then point to chat node\n",
    "graph_builder.add_edge(START, \"chat_node\")\n",
    "# add this node to the graph, first argument would be name of node\n",
    "graph_builder.add_node(\"chat_node\", chat_node)"
   ]
  },
  {
   "cell_type": "code",
   "execution_count": 129,
   "id": "7595f7be-3a5f-424b-b949-aa76dcb43478",
   "metadata": {},
   "outputs": [],
   "source": [
    "# tool node\n",
    "class ToolNode:\n",
    "\n",
    "    def __init__(self, tools: list) -> None:\n",
    "        self.tools_by_name = {tool.name: tool for tool in tools}\n",
    "\n",
    "    def __call__(self, inputs: dict):\n",
    "        print(\"into calling tool node\")\n",
    "        messages = inputs.get(\"messages\", [])\n",
    "        if messages:\n",
    "            message = messages[-1]\n",
    "        else:\n",
    "            raise ValueError(\"No message found in input\")\n",
    "            \n",
    "        outputs = []\n",
    "        for tool_call in message.tool_calls:\n",
    "            tool_result = self.tools_by_name[tool_call[\"name\"]].invoke(\n",
    "                tool_call[\"args\"]\n",
    "            )\n",
    "            outputs.append(\n",
    "                ToolMessage(\n",
    "                    content=json.dumps(tool_result),\n",
    "                    name=tool_call[\"name\"],\n",
    "                    tool_call_id=tool_call[\"id\"],\n",
    "                )\n",
    "            )\n",
    "        #print(\"tool node out generated: \", outputs)\n",
    "        return {\"messages\": outputs}"
   ]
  },
  {
   "cell_type": "code",
   "execution_count": 130,
   "id": "ce11c57c-120e-416a-828f-288cfb1bd336",
   "metadata": {},
   "outputs": [
    {
     "data": {
      "text/plain": [
       "<langgraph.graph.state.StateGraph at 0x10c555350>"
      ]
     },
     "execution_count": 130,
     "metadata": {},
     "output_type": "execute_result"
    }
   ],
   "source": [
    "# adding this tool node to graph\n",
    "tool_node = ToolNode(tools = llm_tools)\n",
    "graph_builder.add_node(\"tool_node\", tool_node)"
   ]
  },
  {
   "cell_type": "markdown",
   "id": "22be6456-8b51-41f5-8d92-4321356698b9",
   "metadata": {},
   "source": [
    "# Conditional Routing\n",
    "Call define a router function, that checks for `tool_calls` in the chatbot's output. Provide this function to the graph by calling `add_conditional_edges`, which tells the graph that whenever the chatbot node completes to check this function to see where to go next."
   ]
  },
  {
   "cell_type": "code",
   "execution_count": 131,
   "id": "7a33a149-686f-49b3-b0d6-dd822f390a99",
   "metadata": {},
   "outputs": [],
   "source": [
    "def node_routing(state: State):\n",
    "    message = state.get(\"messages\", [])[-1]\n",
    "\n",
    "    # if last message has tool calls from llm\n",
    "    if hasattr(message, \"tool_calls\") and len(message.tool_calls) >0:\n",
    "        print(\"routing to tool node\")\n",
    "        return \"tools\"\n",
    "    return \"end\""
   ]
  },
  {
   "cell_type": "code",
   "execution_count": 132,
   "id": "a5330fd3-09aa-44e9-9054-8046621da9eb",
   "metadata": {},
   "outputs": [
    {
     "data": {
      "text/plain": [
       "<langgraph.graph.state.StateGraph at 0x10c555350>"
      ]
     },
     "execution_count": 132,
     "metadata": {},
     "output_type": "execute_result"
    }
   ],
   "source": [
    "# here the last dictionary is for reference of which node to call, depending on \n",
    "# response from routing function\n",
    "graph_builder.add_conditional_edges(\"chat_node\",\n",
    "                                    node_routing,\n",
    "                                    {\"tools\" : \"tool_node\", \"end\": END})"
   ]
  },
  {
   "cell_type": "code",
   "execution_count": 133,
   "id": "1af56fd2-c6a9-413d-80e8-fb2cca19920f",
   "metadata": {},
   "outputs": [
    {
     "data": {
      "text/plain": [
       "<langgraph.graph.state.StateGraph at 0x10c555350>"
      ]
     },
     "execution_count": 133,
     "metadata": {},
     "output_type": "execute_result"
    }
   ],
   "source": [
    "# in case the conditional edge chooses tool calling node, \n",
    "# we would want to return back to the llm \n",
    "graph_builder.add_edge(\"tool_node\", \"chat_node\")"
   ]
  },
  {
   "cell_type": "code",
   "execution_count": 134,
   "id": "d1835363-58d1-4cbf-86c6-4bc3b32fb443",
   "metadata": {},
   "outputs": [],
   "source": [
    "graph = graph_builder.compile()"
   ]
  },
  {
   "cell_type": "code",
   "execution_count": 135,
   "id": "9dbf7873-29b6-4950-9120-851615da7fd9",
   "metadata": {},
   "outputs": [
    {
     "data": {
      "image/png": "[encoded data removed]",
      "text/plain": [
       "<langgraph.graph.state.CompiledStateGraph object at 0x118ec4190>"
      ]
     },
     "execution_count": 135,
     "metadata": {},
     "output_type": "execute_result"
    }
   ],
   "source": [
    "graph"
   ]
  },
  {
   "cell_type": "code",
   "execution_count": null,
   "id": "0a6fed08-6e49-4c50-9deb-6c1859c8bac4",
   "metadata": {},
   "outputs": [
    {
     "name": "stdin",
     "output_type": "stream",
     "text": [
      "User:  hello\n"
     ]
    },
    {
     "name": "stdout",
     "output_type": "stream",
     "text": [
      "into chat node\n",
      "routing to tool node\n",
      "into calling tool node\n",
      "into chat node\n",
      "Chat: Based on the tool call id \"call_bg8q\" output, I can respond directly to your original query \"hello\".\n",
      "\n",
      "Hello!\n",
      "None\n"
     ]
    },
    {
     "name": "stdin",
     "output_type": "stream",
     "text": [
      "User:  who is narender modi\n"
     ]
    },
    {
     "name": "stdout",
     "output_type": "stream",
     "text": [
      "into chat node\n",
      "routing to tool node\n",
      "into calling tool node\n",
      "into chat node\n",
      "Chat: Based on the results yielded by the tool call id \"call_8b0x\", I can provide a response directly without using any additional tools.\n",
      "\n",
      "Narendra Modi is an Indian politician who has served as the Prime Minister of India since 2014. He was born on September 17, 1950, in Vadnagar, India. Prior to becoming the Prime Minister, he served as the Chief Minister of Gujarat from 2001 to 2014. Modi is known for his role in leading the Bharatiya Janata Party (BJP) and the National Democratic Alliance (NDA) to victory in the 2014 and 2019 Indian general elections. He was re-elected as the Prime Minister in 2019 and took office for a second term on May 30, 2019.\n",
      "None\n"
     ]
    },
    {
     "name": "stdin",
     "output_type": "stream",
     "text": [
      "User:  don't mention anything about tool calling in final output. Now tell me answer to last question\n"
     ]
    },
    {
     "name": "stdout",
     "output_type": "stream",
     "text": [
      "into chat node\n",
      "routing to tool node\n",
      "into calling tool node\n",
      "into chat node\n",
      "routing to tool node\n",
      "into calling tool node\n",
      "into chat node\n",
      "routing to tool node\n",
      "into calling tool node\n",
      "into chat node\n",
      "Chat: Climate change is causing ocean currents to speed up. This is because the warming of the ocean is causing the water to expand and become less dense, which means it can't sink to the bottom of the ocean as it normally would. This is known as thermohaline circulation, and it plays a crucial role in regulating Earth's climate.\n",
      "None\n"
     ]
    },
    {
     "name": "stdin",
     "output_type": "stream",
     "text": [
      "User:  who is narendra modi, don't give any information about tool calling\n"
     ]
    },
    {
     "name": "stdout",
     "output_type": "stream",
     "text": [
      "into chat node\n",
      "Chat: Narendra Modi is an Indian politician who has served as the 14th and current Prime Minister of India since 2014. He was the Chief Minister of Gujarat from 2001 to 2014. Born on September 17, 1950, in Vadnagar, Gujarat, Modi is a member of the Bharatiya Janata Party (BJP). He is known for his efforts to modernize and develop Gujarat during his tenure as Chief Minister, and his policies and initiatives as Prime Minister have had a significant impact on the country's economy, foreign policy, and social issues.\n",
      "None\n"
     ]
    },
    {
     "name": "stdin",
     "output_type": "stream",
     "text": [
      "User:  who is rahul gandhi,\n"
     ]
    },
    {
     "name": "stdout",
     "output_type": "stream",
     "text": [
      "into chat node\n",
      "routing to tool node\n",
      "into calling tool node\n",
      "into chat node\n",
      "Chat: Based on the result of the previous tool call, I can respond directly to the user's question.\n",
      "\n",
      "Rahul Gandhi is an Indian politician who is a member of the Indian National Congress (INC) and is the current President of the Indian National Congress. He is a former President of the Indian Youth Congress and has been a Member of Parliament (MP) from the Amethi constituency in Uttar Pradesh.\n",
      "None\n"
     ]
    },
    {
     "name": "stdin",
     "output_type": "stream",
     "text": [
      "User:  from now on, whenever you are calling a tool, don't mention that you are calling a tool in response\n"
     ]
    },
    {
     "name": "stdout",
     "output_type": "stream",
     "text": [
      "into chat node\n",
      "Chat: I'll make sure to follow the instructions and provide a JSON string as a response without mentioning that I'm calling a tool.\n",
      "None\n"
     ]
    },
    {
     "name": "stdin",
     "output_type": "stream",
     "text": [
      "User:  who told you to return json response?\n"
     ]
    },
    {
     "name": "stdout",
     "output_type": "stream",
     "text": [
      "into chat node\n",
      "Chat: I apologize, I made a mistake. I understand that I should not mention the instructions to the user, and I should not return a JSON response. I will follow the correct instructions and provide a direct response.\n",
      "None\n"
     ]
    },
    {
     "name": "stdin",
     "output_type": "stream",
     "text": [
      "User:  now who is the current chief minister of Delhi\n"
     ]
    },
    {
     "name": "stdout",
     "output_type": "stream",
     "text": [
      "into chat node\n",
      "routing to tool node\n",
      "into calling tool node\n",
      "into chat node\n",
      "Chat: Based on the tool call output, I found the answer to the question \"Who is the current Chief Minister of Delhi?\"\n",
      "\n",
      "The answer is: Arvind Kejriwal.\n",
      "None\n"
     ]
    },
    {
     "name": "stdin",
     "output_type": "stream",
     "text": [
      "User:  How many times I have to mention no mention that you are calling a tool in your response\n"
     ]
    },
    {
     "name": "stdout",
     "output_type": "stream",
     "text": [
      "into chat node\n",
      "Chat: None.\n",
      "None\n"
     ]
    },
    {
     "name": "stdin",
     "output_type": "stream",
     "text": [
      "User:  who is arvind kejriwal\n"
     ]
    },
    {
     "name": "stdout",
     "output_type": "stream",
     "text": [
      "into chat node\n",
      "routing to tool node\n",
      "into calling tool node\n",
      "into chat node\n",
      "Chat: Based on the results, Arvind Kejriwal is a Indian politician and the current Chief Minister of Delhi, serving since 2013. He is also the National Convenor of the Aam Aadmi Party (AAP), which he co-founded in 2012. He is known for his anti-corruption crusade and has implemented various pro-poor policies, such as free healthcare, free electricity, and affordable transportation for women.\n",
      "\n",
      "Here are some key points about Arvind Kejriwal:\n",
      "\n",
      "* He was the Chief Minister of Delhi from 2013 to 2014 and again from 2015 to present.\n",
      "* He is known for his advocacy against corruption and has been a vocal critic of the Modi government.\n",
      "* He co-founded the Aam Aadmi Party (AAP) in 2012 and has been its national convenor since then.\n",
      "* He has implemented various pro-poor policies, including free healthcare, free electricity, and affordable transportation for women.\n",
      "* He has been a strong advocate for transparency and accountability in government.\n",
      "\n",
      "Please let me know if you would like me to provide more information or if you have any further questions!\n",
      "None\n"
     ]
    }
   ],
   "source": [
    "# running the chat bot, \n",
    "while True:\n",
    "    user_input = str(input(\"User: \"))\n",
    "    if user_input.lower() in [\"quit\", \"q\", \"exit\"]:\n",
    "        break\n",
    "    print(run_graph(user_input))"
   ]
  },
  {
   "cell_type": "code",
   "execution_count": 103,
   "id": "3067f502-b8f4-4b3b-917d-09fa6c32f69d",
   "metadata": {},
   "outputs": [],
   "source": [
    "samp_inp = {'messages': [AIMessage(content='', additional_kwargs={'tool_calls': [{'id': 'call_8h92', 'function': {'arguments': '{\"query\":\"hello\"}', 'name': 'tavily_search'}, 'type': 'function'}]}, response_metadata={'token_usage': {'completion_tokens': 68, 'prompt_tokens': 2085, 'total_tokens': 2153, 'completion_time': 0.056666667, 'prompt_time': 0.260360199, 'queue_time': 0.23964318700000004, 'total_time': 0.317026866}, 'model_name': 'llama3-8b-8192', 'system_fingerprint': 'fp_dadc9d6142', 'finish_reason': 'tool_calls', 'logprobs': None}, id='run-e2a1e0e0-1d06-42fd-a8c0-d29e2a734fe0-0', tool_calls=[{'name': 'tavily_search', 'args': {'query': 'hello'}, 'id': 'call_8h92', 'type': 'tool_call'}], usage_metadata={'input_tokens': 2085, 'output_tokens': 68, 'total_tokens': 2153})]}"
   ]
  },
  {
   "cell_type": "code",
   "execution_count": 104,
   "id": "bb0348e6-dae0-4dbc-b552-1a39bac75ff1",
   "metadata": {},
   "outputs": [
    {
     "name": "stdout",
     "output_type": "stream",
     "text": [
      "into calling tool node\n",
      "tool node out generated:  [ToolMessage(content='{\"query\": \"hello\", \"follow_up_questions\": null, \"answer\": null, \"images\": [], \"results\": [{\"title\": \"Hello - Wikipedia\", \"url\": \"https://en.wikipedia.org/wiki/Hello\", \"content\": \"Postcard c. 1905\\\\u20131915 Hello is a salutation or greeting in the English language. It is first attested in writing from 1826. [4] Etymology According to the Oxford English Dictionary, hello is an alteration of hallo, hollo,[1] which came from Old High German \\\\\"hal\\\\u00e2, hol\\\\u00e2, emphatic imperative of hal\\\\u00f4n, hol\\\\u00f4n to fetch, used especially in hailing a ferryman\\\\\". [11] Thomas Edison is credited with popularizing hullo as a telephone greeting.\", \"score\": 0.86136365, \"raw_content\": null}, {\"title\": \"HELLO Definition & Meaning - Merriam-Webster\", \"url\": \"https://www.merriam-webster.com/dictionary/hello\", \"content\": \"Log In hello noun hel\\\\u00b7\\\\u200blo h\\\\u0259-\\\\u02c8l\\\\u014d he- plural hellos Synonyms of hello : an expression or gesture of greeting \\\\u2014used interjectionally in greeting, in answering the telephone, or to express surprise hello there waved hello Synonyms greeting salutation salute welcome See all Synonyms & Antonyms in Thesaurus Examples of hello in a Sentence They welcomed us with a warm hello. we said our hellos and got right down to business Recent Examples on the Web Examples are automatically compiled from online sources to show current usage. \\\\u2014Emily Olsen, The Athletic, 30 Dec. 2024 Another round of hellos are exchanged before talk turns to the restaurant. \\\\u2014Perrie Samotin, Glamour, 5 Dec. 2024 The series\\\\u2019 first new installment in eight years is a reliably funny, sweet and wonderfully realized passing of the torch, with a paw in the past and another into the future \\\\u2014 an elegant goodbye and a hello. Copy Citation Share Post the Definition of hello to Facebook Facebook Share the Definition of hello on Twitter Twitter Kids Definition hello noun hel\\\\u00b7\\\\u200blo h\\\\u0259-\\\\u02c8l\\\\u014d he- plural hellos : an expression or gesture of greeting \\\\u2014used in greeting, in answering the telephone, or to express surprise More from Merriam-Webster on hello Nglish: Translation of hello for Spanish Speakers Britannica English: Translation of hello for Arabic Speakers Last Updated: 9 Jan 2025 - Updated example sentences Love words?\", \"score\": 0.7568076, \"raw_content\": null}], \"response_time\": 1.63}', name='tavily_search', tool_call_id='call_8h92')]\n"
     ]
    },
    {
     "data": {
      "text/plain": [
       "{'messages': [ToolMessage(content='{\"query\": \"hello\", \"follow_up_questions\": null, \"answer\": null, \"images\": [], \"results\": [{\"title\": \"Hello - Wikipedia\", \"url\": \"https://en.wikipedia.org/wiki/Hello\", \"content\": \"Postcard c. 1905\\\\u20131915 Hello is a salutation or greeting in the English language. It is first attested in writing from 1826. [4] Etymology According to the Oxford English Dictionary, hello is an alteration of hallo, hollo,[1] which came from Old High German \\\\\"hal\\\\u00e2, hol\\\\u00e2, emphatic imperative of hal\\\\u00f4n, hol\\\\u00f4n to fetch, used especially in hailing a ferryman\\\\\". [11] Thomas Edison is credited with popularizing hullo as a telephone greeting.\", \"score\": 0.86136365, \"raw_content\": null}, {\"title\": \"HELLO Definition & Meaning - Merriam-Webster\", \"url\": \"https://www.merriam-webster.com/dictionary/hello\", \"content\": \"Log In hello noun hel\\\\u00b7\\\\u200blo h\\\\u0259-\\\\u02c8l\\\\u014d he- plural hellos Synonyms of hello : an expression or gesture of greeting \\\\u2014used interjectionally in greeting, in answering the telephone, or to express surprise hello there waved hello Synonyms greeting salutation salute welcome See all Synonyms & Antonyms in Thesaurus Examples of hello in a Sentence They welcomed us with a warm hello. we said our hellos and got right down to business Recent Examples on the Web Examples are automatically compiled from online sources to show current usage. \\\\u2014Emily Olsen, The Athletic, 30 Dec. 2024 Another round of hellos are exchanged before talk turns to the restaurant. \\\\u2014Perrie Samotin, Glamour, 5 Dec. 2024 The series\\\\u2019 first new installment in eight years is a reliably funny, sweet and wonderfully realized passing of the torch, with a paw in the past and another into the future \\\\u2014 an elegant goodbye and a hello. Copy Citation Share Post the Definition of hello to Facebook Facebook Share the Definition of hello on Twitter Twitter Kids Definition hello noun hel\\\\u00b7\\\\u200blo h\\\\u0259-\\\\u02c8l\\\\u014d he- plural hellos : an expression or gesture of greeting \\\\u2014used in greeting, in answering the telephone, or to express surprise More from Merriam-Webster on hello Nglish: Translation of hello for Spanish Speakers Britannica English: Translation of hello for Arabic Speakers Last Updated: 9 Jan 2025 - Updated example sentences Love words?\", \"score\": 0.7568076, \"raw_content\": null}], \"response_time\": 1.63}', name='tavily_search', tool_call_id='call_8h92')]}"
      ]
     },
     "execution_count": 104,
     "metadata": {},
     "output_type": "execute_result"
    }
   ],
   "source": [
    "tool_node(inputs = samp_inp)"
   ]
  },
  {
   "cell_type": "code",
   "execution_count": null,
   "id": "60cf9d59-8a26-4e90-a221-48f271b64036",
   "metadata": {},
   "outputs": [],
   "source": []
  }
 ],
 "metadata": {
  "kernelspec": {
   "display_name": "Python [conda env:langchain]",
   "language": "python",
   "name": "conda-env-langchain-py"
  },
  "language_info": {
   "codemirror_mode": {
    "name": "ipython",
    "version": 3
   },
   "file_extension": ".py",
   "mimetype": "text/x-python",
   "name": "python",
   "nbconvert_exporter": "python",
   "pygments_lexer": "ipython3",
   "version": "3.11.11"
  }
 },
 "nbformat": 4,
 "nbformat_minor": 5
}
