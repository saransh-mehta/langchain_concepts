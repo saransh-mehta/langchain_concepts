{
 "cells": [
  {
   "cell_type": "markdown",
   "id": "57b7546a-9d81-4041-b798-f30c4618174d",
   "metadata": {},
   "source": [
    "# LanGraph for conversational AI Agent\n",
    "\n",
    "define the behavior of your agents using three key components in LangGraph:\n",
    "\n",
    "`State`: A shared data structure that represents the current snapshot of your application. It can be any Python type, but is typically a TypedDict or Pydantic BaseModel. The State consists of the schema of the graph as well as reducer functions which specify how to apply updates to the state. \n",
    "\n",
    "`Nodes`: Python functions that encode the logic of your agents. They receive the current State as input, perform some computation or side-effect, and return an updated State.\n",
    "\n",
    "`Edges`: Python functions that determine which Node to execute next based on the current State. They can be conditional branches or fixed transitions.\n",
    "\n",
    "`Reducers`: Reducers are key to understanding how updates from nodes are applied to the State. Each key in the State has its own independent reducer function. If no reducer function is explicitly specified then it is assumed that all updates to that key should override it.\n",
    "\n",
    "\n",
    "When a Node completes its operation, it sends messages along one or more edges to other node(s). These recipient nodes then execute their functions, pass the resulting messages to the next set of nodes, and the process continues"
   ]
  },
  {
   "cell_type": "code",
   "execution_count": 2,
   "id": "c631f4bf-b827-4c77-8e7f-cee99c6aaafc",
   "metadata": {},
   "outputs": [],
   "source": [
    "from typing import Annotated\n",
    "from typing_extensions import TypedDict\n",
    "\n",
    "from langgraph.graph import StateGraph, START, END\n",
    "from langgraph.graph.message import add_messages"
   ]
  },
  {
   "cell_type": "code",
   "execution_count": 3,
   "id": "264e60eb-b292-497a-ad38-fd4f06406716",
   "metadata": {},
   "outputs": [],
   "source": [
    "# since state is the most important piece in the flow, we define the state class first\n",
    "\n",
    "class State(TypedDict):\n",
    "    messages: Annotated[list, add_messages]\n",
    "    # state holds the list of messages, when new message is given to state, \n",
    "    # reducer function (add_messages), append that message to the list\n",
    "    # keeping all the previous conversation \n",
    "    # if no reducer fn, then it overwrites, instead of appending"
   ]
  },
  {
   "cell_type": "code",
   "execution_count": 4,
   "id": "467333d4-671d-4463-adc7-561f547361f7",
   "metadata": {},
   "outputs": [],
   "source": [
    "graph_builder = StateGraph(State)"
   ]
  },
  {
   "cell_type": "code",
   "execution_count": 6,
   "id": "4b2884e2-552c-449c-8547-1b0773832953",
   "metadata": {},
   "outputs": [],
   "source": [
    "# next we can define our llm model to use\n",
    "import os\n",
    "from api_keys import GROQ_API_KEY\n",
    "from langchain.chat_models import init_chat_model\n",
    "\n",
    "os.environ['GROQ_API_KEY'] = GROQ_API_KEY\n",
    "\n",
    "llm_model = init_chat_model(model=\"llama3-8b-8192\", model_provider = \"groq\")"
   ]
  },
  {
   "cell_type": "code",
   "execution_count": 9,
   "id": "d51ccd45-c869-4d14-b710-e2c2f6fd21b5",
   "metadata": {},
   "outputs": [
    {
     "data": {
      "text/plain": [
       "<langgraph.graph.state.StateGraph at 0x10e236250>"
      ]
     },
     "execution_count": 9,
     "metadata": {},
     "output_type": "execute_result"
    }
   ],
   "source": [
    "# we can create first node as chat node where llm will be used\n",
    "def chat_node(state: State):\n",
    "    # this node will take the stored messages in state and run \n",
    "    # chat llm on it\n",
    "    result = {'messages': [llm_model.invoke(state[\"messages\"])]}\n",
    "    return result\n",
    "\n",
    "# add this node to the graph, first argument would be name of node\n",
    "graph_builder.add_node(\"chat_node\", chat_node)"
   ]
  },
  {
   "cell_type": "code",
   "execution_count": 11,
   "id": "33165417-aec9-4857-88cd-4b0bc2b58e53",
   "metadata": {},
   "outputs": [
    {
     "data": {
      "text/plain": [
       "<langgraph.graph.state.StateGraph at 0x10e236250>"
      ]
     },
     "execution_count": 11,
     "metadata": {},
     "output_type": "execute_result"
    }
   ],
   "source": [
    "# next we would want this chat node to be the first start entry point\n",
    "# and also the end point (as now we just would have one node)\n",
    "graph_builder.add_edge(START, \"chat_node\")\n",
    "graph_builder.add_edge(\"chat_node\", END)"
   ]
  },
  {
   "cell_type": "code",
   "execution_count": 15,
   "id": "c77f7f27-3fa4-4e51-bd6e-35a1325afaa7",
   "metadata": {},
   "outputs": [],
   "source": [
    "# now we have the basic graph, START-> CHAT_NODE -> END\n",
    "# we can compile the graph\n",
    "graph = graph_builder.compile()"
   ]
  },
  {
   "attachments": {
    "65135492-57c7-4022-bdf3-120da604d1d8.png": {
     "image/png": "[encoded data removed]"
    }
   },
   "cell_type": "markdown",
   "id": "bd3b2b74-4552-46fa-9512-95d926078ab8",
   "metadata": {},
   "source": [
    "![basic_chat.png](attachment:65135492-57c7-4022-bdf3-120da604d1d8.png)"
   ]
  },
  {
   "cell_type": "markdown",
   "id": "0d938382-31f9-447c-9fed-53a18101a1fa",
   "metadata": {},
   "source": [
    "# Graph Streaming\n",
    "To traverse through the graph, Langchain provides streaming methods\n",
    "`.stream` and `.astream` are sync and async methods for streaming back outputs from a graph run. There are several different modes you can specify when calling these methods (e.g. `graph.stream(..., mode=\"...\")):\n",
    "\n",
    "`\"values\"`: This streams the full value of the state after each step of the graph.\n",
    "\n",
    "`\"updates\"`: This streams the updates to the state after each step of the graph. If multiple updates are made in the same step (e.g. multiple nodes are run) then those updates are streamed separately.\n",
    "\n",
    "`\"custom\"`: This streams custom data from inside your graph nodes.\n",
    "\n",
    "`\"messages\"`: This streams LLM tokens and metadata for the graph node where LLM is invoked."
   ]
  },
  {
   "cell_type": "code",
   "execution_count": 23,
   "id": "420844c2-4d61-4784-83b3-866ecdb84591",
   "metadata": {},
   "outputs": [],
   "source": [
    "from langchain_core.messages import HumanMessage, SystemMessage\n",
    "def run_graph(user_input: str):\n",
    "    for event in graph.stream(\n",
    "        {\"messages\": [HumanMessage(content = user_input)]}):\n",
    "        for value in event.values():\n",
    "            # printing latest message in state\n",
    "            return \"Chat: {}\".format(value[\"messages\"])"
   ]
  },
  {
   "cell_type": "code",
   "execution_count": 24,
   "id": "dbbf4356-fb68-42f4-935a-2cdceac44924",
   "metadata": {},
   "outputs": [
    {
     "name": "stdin",
     "output_type": "stream",
     "text": [
      "User:  hello\n"
     ]
    },
    {
     "name": "stdout",
     "output_type": "stream",
     "text": [
      "Chat: [AIMessage(content=\"Hello! It's nice to meet you. Is there something I can help you with, or would you like to chat?\", additional_kwargs={}, response_metadata={'token_usage': {'completion_tokens': 26, 'prompt_tokens': 11, 'total_tokens': 37, 'completion_time': 0.021666667, 'prompt_time': 0.003949593, 'queue_time': 0.435477869, 'total_time': 0.02561626}, 'model_name': 'llama3-8b-8192', 'system_fingerprint': 'fp_a97cfe35ae', 'finish_reason': 'stop', 'logprobs': None}, id='run-b93c148f-c62e-40ae-a526-3654541a7bba-0', usage_metadata={'input_tokens': 11, 'output_tokens': 26, 'total_tokens': 37})]\n"
     ]
    },
    {
     "name": "stdin",
     "output_type": "stream",
     "text": [
      "User:  who are you\n"
     ]
    },
    {
     "name": "stdout",
     "output_type": "stream",
     "text": [
      "Chat: [AIMessage(content=\"I am LLaMA, an AI assistant developed by Meta AI that can understand and respond to human input in a conversational manner. I'm not a human, but a computer program designed to simulate conversation, answer questions, and even generate text or code.\\n\\nI was trained on a massive dataset of text from the internet and can generate responses to a wide range of topics and questions. I can understand natural language and respond in a way that's intended to mimic human-like conversation.\\n\\nI'm not perfect and can make mistakes, but I'm constantly learning and improving my abilities based on the interactions I have with users like you.\\n\\nSo, what would you like to talk about?\", additional_kwargs={}, response_metadata={'token_usage': {'completion_tokens': 136, 'prompt_tokens': 13, 'total_tokens': 149, 'completion_time': 0.113333333, 'prompt_time': 0.002960508, 'queue_time': 0.5069301039999999, 'total_time': 0.116293841}, 'model_name': 'llama3-8b-8192', 'system_fingerprint': 'fp_179b0f92c9', 'finish_reason': 'stop', 'logprobs': None}, id='run-baea8bb1-493c-417b-bce2-0990b9598e3e-0', usage_metadata={'input_tokens': 13, 'output_tokens': 136, 'total_tokens': 149})]\n"
     ]
    },
    {
     "name": "stdin",
     "output_type": "stream",
     "text": [
      "User:  q\n"
     ]
    }
   ],
   "source": [
    "# running the chat bot, \n",
    "while True:\n",
    "    user_input = str(input(\"User: \"))\n",
    "\n",
    "    if user_input.lower() in [\"quit\", \"q\", \"exit\"]:\n",
    "        break\n",
    "    print(run_graph(user_input))"
   ]
  },
  {
   "cell_type": "code",
   "execution_count": 30,
   "id": "0859f423-8b88-4d3a-8c19-970155628cf2",
   "metadata": {},
   "outputs": [
    {
     "ename": "AttributeError",
     "evalue": "'CompiledStateGraph' object has no attribute 'chat_node'",
     "output_type": "error",
     "traceback": [
      "\u001b[0;31m---------------------------------------------------------------------------\u001b[0m",
      "\u001b[0;31mAttributeError\u001b[0m                            Traceback (most recent call last)",
      "Cell \u001b[0;32mIn[30], line 1\u001b[0m\n\u001b[0;32m----> 1\u001b[0m graph\u001b[38;5;241m.\u001b[39mchat_node()\n",
      "\u001b[0;31mAttributeError\u001b[0m: 'CompiledStateGraph' object has no attribute 'chat_node'"
     ]
    }
   ],
   "source": [
    "graph.chat_node()"
   ]
  },
  {
   "cell_type": "code",
   "execution_count": null,
   "id": "f5848328-51ce-416d-a47c-8cb37032825e",
   "metadata": {},
   "outputs": [],
   "source": []
  }
 ],
 "metadata": {
  "kernelspec": {
   "display_name": "Python [conda env:langchain]",
   "language": "python",
   "name": "conda-env-langchain-py"
  },
  "language_info": {
   "codemirror_mode": {
    "name": "ipython",
    "version": 3
   },
   "file_extension": ".py",
   "mimetype": "text/x-python",
   "name": "python",
   "nbconvert_exporter": "python",
   "pygments_lexer": "ipython3",
   "version": "3.11.11"
  }
 },
 "nbformat": 4,
 "nbformat_minor": 5
}
