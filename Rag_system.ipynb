{
 "cells": [
  {
   "cell_type": "markdown",
   "id": "13080603-dc97-4359-8af5-d045e6e44af3",
   "metadata": {},
   "source": [
    "# RAG"
   ]
  },
  {
   "cell_type": "code",
   "execution_count": 1,
   "id": "9583f340-00bd-4667-b90d-042213c5f453",
   "metadata": {},
   "outputs": [],
   "source": [
    "# Loading a document to be used for retrieval\n",
    "from langchain_community.document_loaders import PyPDFLoader\n",
    "\n",
    "pdf_file = \"~/Desktop/langchain_concepts/hdfc_policy_doc.pdf\""
   ]
  },
  {
   "cell_type": "code",
   "execution_count": 2,
   "id": "4d49f418-9b5b-4141-85c2-2b7566c3fa4f",
   "metadata": {},
   "outputs": [],
   "source": [
    "pdf_loader = PyPDFLoader(pdf_file)\n",
    "# will load each page as a document, with lazy loading\n",
    "document_pages = []\n",
    "async for page in pdf_loader.alazy_load():\n",
    "    document_pages.append(page)"
   ]
  },
  {
   "cell_type": "code",
   "execution_count": 3,
   "id": "2e82ad01-6d4c-4e48-9157-2cd0bcf8a429",
   "metadata": {},
   "outputs": [
    {
     "data": {
      "text/plain": [
       "48"
      ]
     },
     "execution_count": 3,
     "metadata": {},
     "output_type": "execute_result"
    }
   ],
   "source": [
    "len(document_pages)"
   ]
  },
  {
   "cell_type": "code",
   "execution_count": 4,
   "id": "41b9dafa-4cd0-405c-941b-a3fc4d278bd5",
   "metadata": {},
   "outputs": [
    {
     "data": {
      "text/plain": [
       "Document(metadata={'producer': 'Microsoft® Word LTSC', 'creator': 'Microsoft® Word LTSC', 'creationdate': '2025-03-10T17:06:03+05:30', 'author': 'harinis', 'moddate': '2025-03-10T17:06:03+05:30', 'source': '/Users/sarmehta/Desktop/langchain_concepts/hdfc_policy_doc.pdf', 'total_pages': 48, 'page': 0, 'page_label': '1'}, page_content='Page 1 of 48 \\n \\n \\nPart A \\n(Welcome Letter) \\n<<Date>> \\n<<Policyholder’s Name>>  \\n<<Policyholder’s Address>> \\n<<Policyholder’s Contact Number>> \\n \\nSub: Your Policy no. <<>>-HDFC Life Sampoorn Nivesh Plus \\n \\nDear <<Policyholder’s Name>>,  \\n \\nWe are glad to inform you that your proposal has been accepted and the HDFC Life Sampoorn  Nivesh Plus \\nPolicy (“Policy”) being this Policy, has been issued. We have made every effort to design your Policy in a \\nsimple format. We have highlighted items of importance so that you may recognize them easily. \\n \\nPolicy document: \\nAs evidence of the insurance contract between HDFC Life Insurance Company Limited and you, the Policy is \\nenclosed herewith. Please preserve this document safely and inform your nominees about the same. A copy of \\nyour proposal form and other relevant documents submitted by you is also enclosed  for your information and \\nrecord.  \\n \\nCancellation in the Free-Look Period: \\nIn case you are not agreeable to any of the terms and conditions stated in th e Policy, you have the option to \\nreturn the policy to us for cancellation stating the reasons thereof, within 30 days from the date of receipt of the \\nPolicy whether rece ived electronically or otherwise . On receipt of your letter along with the original \\npolicy(original Policy Document is not required for policies in dematerialised form or where policy is issued \\nonly in electronic form), we shall arrange to refund  the value of Units allocated to you on the date of receipt of \\nrequest plus the unallocated part of the premium plus charges levied by cancellation of Units, subject to \\ndeduction of the proportionate risk premium for the period on cover expenses incurred on medical examination \\nof the proposer and stamp duty charges (if any). \\n \\nContact us: \\nFor any assistance with your policy or services, please call us at 022-68446530 (Mon to Sat – 10 AM to 7 PM \\nIST) or email us at service@hdfclife.com. Please quote your Policy number in all correspondence. Our postal \\naddress for correspondence is as specified below. You may reach out to your Certified Financial Consultant \\n(Insurance Agent) who assisted you with this policy. \\n \\nAgent details: \\nName:<<HDFC BANK, Address: HDFC Bank Ltd, Sandoz House, 2nd Floor, Shiv Sagar Estate, Dr. Annie \\nBesant Road, Worli, Mumbai, Maharashtra -400018 Agent No.:  01546366 License No.:  CA0010 Contact \\nDetails: XXXXXXX>> \\n \\nTo contact us in case of any grievance, please Click here,you may also refer to Part G. \\n \\nYours sincerely, \\n \\n \\nAuthorised Signatory')"
      ]
     },
     "execution_count": 4,
     "metadata": {},
     "output_type": "execute_result"
    }
   ],
   "source": [
    "document_pages[0]"
   ]
  },
  {
   "cell_type": "markdown",
   "id": "49235168-88e2-44e4-8361-87d1acd55b46",
   "metadata": {},
   "source": [
    "# Chat Model/ LLM Model\n",
    "Here if we have the resources, we can use a local LLM chat model\n",
    "or otherwise use API for LLM"
   ]
  },
  {
   "cell_type": "code",
   "execution_count": 5,
   "id": "f4fcd928-2e81-45d2-9326-c7a36ab9656e",
   "metadata": {},
   "outputs": [],
   "source": [
    "# chat model for making the retrieval process conversational also\n",
    "from langchain_huggingface import ChatHuggingFace, HuggingFacePipeline"
   ]
  },
  {
   "cell_type": "code",
   "execution_count": 6,
   "id": "1fc99f6d-4fc8-4254-acd2-82b055075a62",
   "metadata": {},
   "outputs": [
    {
     "data": {
      "text/plain": [
       "'\\nllm_model = HuggingFacePipeline.from_model_id(\\n    model_id=\"HuggingFaceH4/zephyr-7b-beta\",\\n    task=\"text-generation\",\\n    pipeline_kwargs=dict(\\n        max_new_tokens=512,\\n        do_sample=False,\\n        repetition_penalty=1.03,\\n    ),\\n)\\n'"
      ]
     },
     "execution_count": 6,
     "metadata": {},
     "output_type": "execute_result"
    }
   ],
   "source": [
    "# this can be used in local if we have memory, otherwise \n",
    "#through API\n",
    "\"\"\"\n",
    "llm_model = HuggingFacePipeline.from_model_id(\n",
    "    model_id=\"HuggingFaceH4/zephyr-7b-beta\",\n",
    "    task=\"text-generation\",\n",
    "    pipeline_kwargs=dict(\n",
    "        max_new_tokens=512,\n",
    "        do_sample=False,\n",
    "        repetition_penalty=1.03,\n",
    "    ),\n",
    ")\n",
    "\"\"\""
   ]
  },
  {
   "cell_type": "code",
   "execution_count": 7,
   "id": "4ba0b4e8-ad3d-4401-819f-58f105659ea6",
   "metadata": {},
   "outputs": [],
   "source": [
    "#chat_model = ChatHuggingFace(llm=llm_model)"
   ]
  },
  {
   "cell_type": "code",
   "execution_count": 31,
   "id": "a5ae692c-3980-4143-aa16-07ac481ccde3",
   "metadata": {},
   "outputs": [],
   "source": [
    "# in case if not loading model on RAM, can use LLM API as well\n",
    "import os\n",
    "from api_keys import GROQ_API_KEY\n",
    "from langchain.chat_models import init_chat_model\n",
    "\n",
    "os.environ[\"GROQ_API_KEY\"] = GROQ_API_KEY\n",
    "llm_model = init_chat_model(\"llama3-8b-8192\", model_provider=\"groq\")"
   ]
  },
  {
   "cell_type": "code",
   "execution_count": 33,
   "id": "cb68daa9-0f89-44dc-8c3f-a8058a32d993",
   "metadata": {},
   "outputs": [
    {
     "data": {
      "text/plain": [
       "AIMessage(content=\"Hello! It's nice to meet you. Is there something I can help you with, or would you like to chat?\", additional_kwargs={}, response_metadata={'token_usage': {'completion_tokens': 26, 'prompt_tokens': 12, 'total_tokens': 38, 'completion_time': 0.021666667, 'prompt_time': 0.002390955, 'queue_time': 0.336810913, 'total_time': 0.024057622}, 'model_name': 'llama3-8b-8192', 'system_fingerprint': 'fp_a97cfe35ae', 'finish_reason': 'stop', 'logprobs': None}, id='run-b06c3ce1-623e-4a13-9d9e-658763b88c0c-0', usage_metadata={'input_tokens': 12, 'output_tokens': 26, 'total_tokens': 38})"
      ]
     },
     "execution_count": 33,
     "metadata": {},
     "output_type": "execute_result"
    }
   ],
   "source": [
    "llm_model.invoke(\"hello there\")"
   ]
  },
  {
   "cell_type": "markdown",
   "id": "4e02e897-f774-45d5-8727-bca1cd09b6a8",
   "metadata": {},
   "source": [
    "# Text Splitter\n",
    "creating text splitter for our document which will break,\n",
    "for document either we can go with Recursive Splitter or also Semantic splitter\n",
    "if the document has content which are more of semantic reference\n"
   ]
  },
  {
   "cell_type": "code",
   "execution_count": 9,
   "id": "b03fb137-fde5-459c-9635-ee3928cab946",
   "metadata": {},
   "outputs": [],
   "source": [
    "CHUNK_SIZE = 300\n",
    "OVERLAP = 30\n",
    "from langchain_text_splitters import RecursiveCharacterTextSplitter\n",
    "\n",
    "text_splitter = RecursiveCharacterTextSplitter(chunk_size = CHUNK_SIZE,\n",
    "                                               chunk_overlap = OVERLAP)"
   ]
  },
  {
   "cell_type": "markdown",
   "id": "bb8ed5d5-f94a-4be7-b888-06e467f16776",
   "metadata": {},
   "source": [
    "# Embedding Model"
   ]
  },
  {
   "cell_type": "code",
   "execution_count": 10,
   "id": "8a01f293-4d6b-4715-81e5-06089986a4cb",
   "metadata": {},
   "outputs": [],
   "source": [
    "# embedding model for indexing\n",
    "EMBED_DIMS = 768\n",
    "from langchain_huggingface.embeddings import HuggingFaceEmbeddings\n",
    "embed_model = HuggingFaceEmbeddings(model_name = \"thenlper/gte-base\")"
   ]
  },
  {
   "cell_type": "markdown",
   "id": "31018450-e787-41c6-a57c-ff414830d016",
   "metadata": {},
   "source": [
    "# Vector index"
   ]
  },
  {
   "cell_type": "code",
   "execution_count": 11,
   "id": "0008578d-4aad-455e-8e57-6bef8cb67cec",
   "metadata": {},
   "outputs": [],
   "source": [
    "# faiss index to be used as vector store \n",
    "import faiss\n",
    "from langchain_community.vectorstores import FAISS\n",
    "from langchain_community.docstore.in_memory import InMemoryDocstore\n",
    "from langchain.storage import InMemoryStore\n",
    "\n",
    "faiss_index = faiss.IndexFlatL2(EMBED_DIMS)\n",
    "vector_store = FAISS(embedding_function = embed_model,\n",
    "                    index = faiss_index,\n",
    "                    docstore = InMemoryDocstore(),\n",
    "                    index_to_docstore_id = {})"
   ]
  },
  {
   "cell_type": "markdown",
   "id": "64ecf56c-5c06-4f62-bb16-570c0065a53e",
   "metadata": {},
   "source": [
    "Here for providing the context to the LLM for retrieval, we have two options,\n",
    "\n",
    "1. Chunk Context -- In this, if we just store the text spliited (chunked) documents in vector store, the vector store retriever would just retrieve the chunk for LLM would have this chunk as the context. It can be used if the chunk size is big enough, and we just need to generate an answer to the query to the user.\n",
    "\n",
    "2. Document context -- How ever, if we need more context, and also need give the user the related document from which the answer is generated, we need to keep the mapping of the vector retrieved chunk to the original document. This can be done by using `ParentDocumentRetriever` in Langchain"
   ]
  },
  {
   "cell_type": "code",
   "execution_count": 12,
   "id": "31399251-535f-447e-9755-2dfbb75bd0d0",
   "metadata": {},
   "outputs": [],
   "source": [
    "# adding the chunked documents to the vector store\n",
    "all_splits = text_splitter.split_documents(document_pages)"
   ]
  },
  {
   "cell_type": "code",
   "execution_count": 13,
   "id": "1b517ebc-7045-415c-aa64-5130ad57e7a8",
   "metadata": {},
   "outputs": [
    {
     "data": {
      "text/plain": [
       "Document(metadata={'producer': 'Microsoft® Word LTSC', 'creator': 'Microsoft® Word LTSC', 'creationdate': '2025-03-10T17:06:03+05:30', 'author': 'harinis', 'moddate': '2025-03-10T17:06:03+05:30', 'source': '/Users/sarmehta/Desktop/langchain_concepts/hdfc_policy_doc.pdf', 'total_pages': 48, 'page': 0, 'page_label': '1'}, page_content='Details: XXXXXXX>> \\n \\nTo contact us in case of any grievance, please Click here,you may also refer to Part G. \\n \\nYours sincerely, \\n \\n \\nAuthorised Signatory')"
      ]
     },
     "execution_count": 13,
     "metadata": {},
     "output_type": "execute_result"
    }
   ],
   "source": [
    "all_splits[10]"
   ]
  },
  {
   "cell_type": "code",
   "execution_count": 14,
   "id": "630a9d58-981a-41ad-9b43-ab6513666203",
   "metadata": {},
   "outputs": [],
   "source": [
    "document_ids = vector_store.add_documents(documents=all_splits)"
   ]
  },
  {
   "cell_type": "markdown",
   "id": "1ffd7842-c211-4303-8099-e039083a55cc",
   "metadata": {},
   "source": [
    "# Conversational Graph\n",
    "We will make the RAG application in the LangGraph so as to follow the conversational flow\n",
    "\n",
    "START -> retrieve_node(node1) --> generate_node(node2) --> END"
   ]
  },
  {
   "cell_type": "code",
   "execution_count": 15,
   "id": "0e59c47e-980e-4454-a34e-02197903df04",
   "metadata": {},
   "outputs": [],
   "source": [
    "#defining state class\n",
    "\n",
    "from langchain_core.documents import Document\n",
    "from typing_extensions import List, TypedDict\n",
    "\n",
    "class State(TypedDict):\n",
    "    question: str\n",
    "    context: List[Document]\n",
    "    answer: str"
   ]
  },
  {
   "cell_type": "code",
   "execution_count": 16,
   "id": "72e755df-8ed7-4b3a-b64c-56e087e448a6",
   "metadata": {},
   "outputs": [],
   "source": [
    "from langgraph.graph import StateGraph, START, END"
   ]
  },
  {
   "cell_type": "code",
   "execution_count": 123,
   "id": "47d52831-4ce3-454e-bdfe-b246e8046b1d",
   "metadata": {},
   "outputs": [],
   "source": [
    "graph_builder = StateGraph(State)"
   ]
  },
  {
   "cell_type": "code",
   "execution_count": 124,
   "id": "27a6a37c-c05e-4a9a-810c-28bb2b02b366",
   "metadata": {},
   "outputs": [],
   "source": [
    "# node 1 for retriving context related to the question\n",
    "def retrieval_node(state: State):\n",
    "    retrieved_docs = vector_store.similarity_search(state[\"question\"], k=3)\n",
    "    return {\"context\": retrieved_docs}"
   ]
  },
  {
   "cell_type": "code",
   "execution_count": 125,
   "id": "3079d7bf-258f-406d-8d78-e3b35c590e71",
   "metadata": {},
   "outputs": [],
   "source": [
    "# node 2 for running the LLm with the context\n",
    "# for this we will have to create a prompt first which \n",
    "# will contain the instruction, question, retrieved context"
   ]
  },
  {
   "cell_type": "code",
   "execution_count": 64,
   "id": "0a9a908b-155e-42f8-8552-7d1e508fdf8e",
   "metadata": {},
   "outputs": [],
   "source": [
    "from langchain import hub"
   ]
  },
  {
   "cell_type": "code",
   "execution_count": 43,
   "id": "05f87937-3f20-4748-8d05-41fe20416006",
   "metadata": {},
   "outputs": [
    {
     "name": "stderr",
     "output_type": "stream",
     "text": [
      "/Users/sarmehta/miniconda3/envs/langchain/lib/python3.11/site-packages/langsmith/client.py:253: LangSmithMissingAPIKeyWarning: API key must be provided when using hosted LangSmith API\n",
      "  warnings.warn(\n"
     ]
    }
   ],
   "source": [
    "prompt = hub.pull(\"rlm/rag-prompt\")"
   ]
  },
  {
   "cell_type": "code",
   "execution_count": 44,
   "id": "9e60a9df-b4ee-4bea-ae01-d99f8ea96560",
   "metadata": {},
   "outputs": [
    {
     "data": {
      "text/plain": [
       "ChatPromptTemplate(input_variables=['context', 'question'], input_types={}, partial_variables={}, metadata={'lc_hub_owner': 'rlm', 'lc_hub_repo': 'rag-prompt', 'lc_hub_commit_hash': '50442af133e61576e74536c6556cefe1fac147cad032f4377b60c436e6cdcb6e'}, messages=[HumanMessagePromptTemplate(prompt=PromptTemplate(input_variables=['context', 'question'], input_types={}, partial_variables={}, template=\"You are an assistant for question-answering tasks. Use the following pieces of retrieved context to answer the question. If you don't know the answer, just say that you don't know. Use three sentences maximum and keep the answer concise.\\nQuestion: {question} \\nContext: {context} \\nAnswer:\"), additional_kwargs={})])"
      ]
     },
     "execution_count": 44,
     "metadata": {},
     "output_type": "execute_result"
    }
   ],
   "source": [
    "prompt"
   ]
  },
  {
   "cell_type": "code",
   "execution_count": 65,
   "id": "b3875d53-5d89-491f-8bed-b0652f309f00",
   "metadata": {},
   "outputs": [],
   "source": [
    "from langchain_core.prompts import ChatPromptTemplate, HumanMessagePromptTemplate, PromptTemplate"
   ]
  },
  {
   "cell_type": "code",
   "execution_count": 102,
   "id": "2f9408af-f33f-4427-b2d0-a050a1a65594",
   "metadata": {},
   "outputs": [],
   "source": [
    "prompt = ChatPromptTemplate(input_variables=['context', 'question'],\n",
    "                            messages=[\n",
    "                                HumanMessagePromptTemplate(\n",
    "                                    prompt=PromptTemplate(input_variables=['context', 'question'],\n",
    "                                                          template=\"You are an assistant for question-answering tasks. Use the following pieces of retrieved context to answer the question. If you don't know the answer, just say that you don't know. Use three sentences maximum and keep the answer concise.\\nQuestion: {question} \\nContext: {context} \\nAnswer:\")\n",
    "                                )])"
   ]
  },
  {
   "cell_type": "code",
   "execution_count": 103,
   "id": "7f183ea6-0109-412f-baf9-b235ec49902c",
   "metadata": {},
   "outputs": [
    {
     "data": {
      "text/plain": [
       "ChatPromptTemplate(input_variables=['context', 'question'], input_types={}, partial_variables={}, messages=[HumanMessagePromptTemplate(prompt=PromptTemplate(input_variables=['context', 'question'], input_types={}, partial_variables={}, template=\"You are an assistant for question-answering tasks. Use the following pieces of retrieved context to answer the question. If you don't know the answer, just say that you don't know. Use three sentences maximum and keep the answer concise.\\nQuestion: {question} \\nContext: {context} \\nAnswer:\"), additional_kwargs={})])"
      ]
     },
     "execution_count": 103,
     "metadata": {},
     "output_type": "execute_result"
    }
   ],
   "source": [
    "prompt"
   ]
  },
  {
   "cell_type": "code",
   "execution_count": 126,
   "id": "1325d9cf-e62a-410b-9958-dbebe2dbf97b",
   "metadata": {},
   "outputs": [],
   "source": [
    "def response_node(state: State):\n",
    "    full_context = \"\\n\\n\".join(doc.page_content for doc in state[\"context\"])\n",
    "    messages = prompt.invoke({\"question\": state[\"question\"], \"context\": full_context})\n",
    "    #print(messages)\n",
    "    response = llm_model.invoke(messages)\n",
    "    return {\"answer\": response.content}"
   ]
  },
  {
   "cell_type": "code",
   "execution_count": 127,
   "id": "b4513a92-03f4-4e36-ab96-8ded35f8200b",
   "metadata": {},
   "outputs": [
    {
     "data": {
      "text/plain": [
       "<langgraph.graph.state.StateGraph at 0x1626a4590>"
      ]
     },
     "execution_count": 127,
     "metadata": {},
     "output_type": "execute_result"
    }
   ],
   "source": [
    "# connecting nodes to build graph\n",
    "#START\n",
    "graph_builder.add_edge(START, \"retrieval_node\")\n",
    "\n",
    "# RETRIEVE NODE\n",
    "graph_builder.add_node(\"retrieval_node\", retrieval_node)\n",
    "\n",
    "#edge from retrival node to response node\n",
    "graph_builder.add_edge(\"retrieval_node\", \"response_node\")\n",
    "\n",
    "# RESPONSE NODE\n",
    "graph_builder.add_node(\"response_node\", response_node)\n",
    "\n",
    "#END\n",
    "graph_builder.add_edge(\"response_node\", END)"
   ]
  },
  {
   "cell_type": "code",
   "execution_count": 128,
   "id": "ba2d4be3-8a0e-4003-b420-bdeca2bf3332",
   "metadata": {},
   "outputs": [],
   "source": [
    "graph = graph_builder.compile()"
   ]
  },
  {
   "cell_type": "code",
   "execution_count": 129,
   "id": "d5d01417-907a-4256-bfd2-8b018ddf47cf",
   "metadata": {},
   "outputs": [
    {
     "name": "stdout",
     "output_type": "stream",
     "text": [
      "%%{init: {'flowchart': {'curve': 'linear'}}}%%\n",
      "graph TD;\n",
      "\t__start__([<p>__start__</p>]):::first\n",
      "\tretrieval_node(retrieval_node)\n",
      "\tresponse_node(response_node)\n",
      "\t__end__([<p>__end__</p>]):::last\n",
      "\t__start__ --> retrieval_node;\n",
      "\tresponse_node --> __end__;\n",
      "\tretrieval_node --> response_node;\n",
      "\tclassDef default fill:#f2f0ff,line-height:1.2\n",
      "\tclassDef first fill-opacity:0\n",
      "\tclassDef last fill:#bfb6fc\n",
      "\n"
     ]
    }
   ],
   "source": [
    "print(graph.get_graph().draw_mermaid())"
   ]
  },
  {
   "cell_type": "code",
   "execution_count": 130,
   "id": "2721fce6-d585-4b84-8840-2a645073c43c",
   "metadata": {},
   "outputs": [
    {
     "data": {
      "image/png": "[encoded data removed]",
      "text/plain": [
       "<langgraph.graph.state.CompiledStateGraph object at 0x162d420d0>"
      ]
     },
     "execution_count": 130,
     "metadata": {},
     "output_type": "execute_result"
    }
   ],
   "source": [
    "graph"
   ]
  },
  {
   "cell_type": "markdown",
   "id": "c0021fe2-a34b-46fa-9248-fea1164da6ad",
   "metadata": {},
   "source": [
    "# Streaming \n",
    "We can stream the graph in a conversational manner to get information \n",
    "\n",
    "To traverse through the graph, Langchain provides streaming methods\n",
    "`.stream` and `.astream` are sync and async methods for streaming back outputs from a graph run. There are several different modes you can specify when calling these methods (e.g. `graph.stream(..., mode=\"...\")):\n",
    "\n",
    "`\"values\"`: This streams the full value of the state after each step of the graph.\n",
    "\n",
    "`\"updates\"`: This streams the updates to the state after each step of the graph. If multiple updates are made in the same step (e.g. multiple nodes are run) then those updates are streamed separately.\n",
    "\n",
    "`\"custom\"`: This streams custom data from inside your graph nodes.\n",
    "\n",
    "`\"messages\"`: This streams LLM tokens and metadata for the graph node where LLM is invoked."
   ]
  },
  {
   "cell_type": "code",
   "execution_count": 131,
   "id": "a6f2565a-f865-494f-abdc-97c618166b78",
   "metadata": {},
   "outputs": [],
   "source": [
    "result = graph.invoke({\"question\": \"What is Task Decomposition?\"})"
   ]
  },
  {
   "cell_type": "code",
   "execution_count": 47,
   "id": "6203c3d1-e626-4854-924a-42abcbc39492",
   "metadata": {},
   "outputs": [
    {
     "data": {
      "text/plain": [
       "'I don\\'t know the answer to that question. The provided context does not mention or define \"Task Decomposition\".'"
      ]
     },
     "execution_count": 47,
     "metadata": {},
     "output_type": "execute_result"
    }
   ],
   "source": [
    "result[\"answer\"]"
   ]
  },
  {
   "cell_type": "code",
   "execution_count": 48,
   "id": "3ba27700-b365-41f5-82ac-13e8019a24c1",
   "metadata": {},
   "outputs": [],
   "source": [
    "result = graph.invoke({\"question\": \"What is HDFC insurance about?\"})"
   ]
  },
  {
   "cell_type": "code",
   "execution_count": 49,
   "id": "819b2f24-3452-4ccc-bd7c-cca4ae1dea07",
   "metadata": {},
   "outputs": [
    {
     "data": {
      "text/plain": [
       "'HDFC insurance appears to be a life insurance company offering various policies, including Unit Linked Non-Participating Individual Life Insurance Savings Policies. These policies are designed to provide financial protection and savings benefits to policyholders.'"
      ]
     },
     "execution_count": 49,
     "metadata": {},
     "output_type": "execute_result"
    }
   ],
   "source": [
    "result[\"answer\"]"
   ]
  },
  {
   "cell_type": "code",
   "execution_count": 50,
   "id": "a8cdf6ee-3800-43e1-a455-003d6e7fd5ac",
   "metadata": {
    "scrolled": true
   },
   "outputs": [
    {
     "data": {
      "text/plain": [
       "{'question': 'What is HDFC insurance about?',\n",
       " 'context': [Document(id='9ead75b5-cb61-4d1d-a58f-1143c89bf33c', metadata={'producer': 'Microsoft® Word LTSC', 'creator': 'Microsoft® Word LTSC', 'creationdate': '2025-03-10T17:06:03+05:30', 'author': 'harinis', 'moddate': '2025-03-10T17:06:03+05:30', 'source': '/Users/sarmehta/Desktop/langchain_concepts/hdfc_policy_doc.pdf', 'total_pages': 48, 'page': 0, 'page_label': '1'}, page_content='IST) or email us at service@hdfclife.com. Please quote your Policy number in all correspondence. Our postal \\naddress for correspondence is as specified below. You may reach out to your Certified Financial Consultant \\n(Insurance Agent) who assisted you with this policy. \\n \\nAgent details:'),\n",
       "  Document(id='ae96cbd0-f50a-4830-b1e0-fe859dcc570c', metadata={'producer': 'Microsoft® Word LTSC', 'creator': 'Microsoft® Word LTSC', 'creationdate': '2025-03-10T17:06:03+05:30', 'author': 'harinis', 'moddate': '2025-03-10T17:06:03+05:30', 'source': '/Users/sarmehta/Desktop/langchain_concepts/hdfc_policy_doc.pdf', 'total_pages': 48, 'page': 0, 'page_label': '1'}, page_content='simple format. We have highlighted items of importance so that you may recognize them easily. \\n \\nPolicy document: \\nAs evidence of the insurance contract between HDFC Life Insurance Company Limited and you, the Policy is'),\n",
       "  Document(id='39c51b0c-ff6e-4172-91b7-fe2a0769764e', metadata={'producer': 'Microsoft® Word LTSC', 'creator': 'Microsoft® Word LTSC', 'creationdate': '2025-03-10T17:06:03+05:30', 'author': 'harinis', 'moddate': '2025-03-10T17:06:03+05:30', 'source': '/Users/sarmehta/Desktop/langchain_concepts/hdfc_policy_doc.pdf', 'total_pages': 48, 'page': 2, 'page_label': '3'}, page_content='Company Limited  (“HDFC Life”)  (‘We’/ ‘Company’) and the Policyholder (‘You’) as described in the \\nPolicy Schedule given below. This Policy is based on the Proposal made by the within named Policyholder'),\n",
       "  Document(id='25b1d1c7-dc0b-460f-9dd8-b1d0fbb48a8c', metadata={'producer': 'Microsoft® Word LTSC', 'creator': 'Microsoft® Word LTSC', 'creationdate': '2025-03-10T17:06:03+05:30', 'author': 'harinis', 'moddate': '2025-03-10T17:06:03+05:30', 'source': '/Users/sarmehta/Desktop/langchain_concepts/hdfc_policy_doc.pdf', 'total_pages': 48, 'page': 2, 'page_label': '3'}, page_content='COMPLETELY OR PARTIALLY TILL THE END OF THE FIFTH YEAR \\n \\nYour Policy is a << regular/ limited/single>> Premium paying Unit Linked Non-Participating Individual Life \\nInsurance Savings Policy. This document is the evidence of a contract between HDFC Life Insurance')],\n",
       " 'answer': 'HDFC insurance appears to be a life insurance company offering various policies, including Unit Linked Non-Participating Individual Life Insurance Savings Policies. These policies are designed to provide financial protection and savings benefits to policyholders.'}"
      ]
     },
     "execution_count": 50,
     "metadata": {},
     "output_type": "execute_result"
    }
   ],
   "source": [
    "result"
   ]
  },
  {
   "cell_type": "code",
   "execution_count": 132,
   "id": "416891c1-3982-4a34-9d49-e59ae174ad29",
   "metadata": {},
   "outputs": [],
   "source": [
    "from langchain_core.messages import HumanMessage, SystemMessage, ToolMessage, AIMessage\n",
    "def run_graph(question: str):\n",
    "    for event in graph.stream(\n",
    "        {\"question\": question},\n",
    "    stream_mode = \"values\"):\n",
    "        #print(event)\n",
    "        final_result = event.get(\"answer\")\n",
    "        if final_result:\n",
    "            print(\"Result: {}\".format(final_result))\n",
    "        \"\"\"\n",
    "        for value in event.values():\n",
    "            # printing latest message in state\n",
    "            # here, be careful not the return, as it will break the event cycle\n",
    "            # and the process will stop after passing through first node\n",
    "\n",
    "            #also we don't need intermediate tool outputs\n",
    "            print(value)\n",
    "            node_result = value[\"answer\"][-1]\n",
    "            print(\"Chat: {}\".format(node_result.content))\n",
    "            if isinstance(node_result, (HumanMessage, AIMessage)) and node_result.content:\n",
    "                print(\"Chat: {}\".format(node_result.content))\n",
    "            \"\"\""
   ]
  },
  {
   "cell_type": "code",
   "execution_count": 133,
   "id": "71c20962-a354-4488-995b-7b772fb3ed4e",
   "metadata": {},
   "outputs": [
    {
     "name": "stdin",
     "output_type": "stream",
     "text": [
      "User:  what is a ship\n"
     ]
    },
    {
     "name": "stdout",
     "output_type": "stream",
     "text": [
      "Result: I don't know. The provided context is about scheduled airlines and insurance policy definitions, and it doesn't mention ships or vessels.\n"
     ]
    },
    {
     "name": "stdin",
     "output_type": "stream",
     "text": [
      "User:  what does life assured mean in the policy?\n"
     ]
    },
    {
     "name": "stdout",
     "output_type": "stream",
     "text": [
      "Result: In the policy, \"Life Assured\" refers to the person whose life the contingent events must occur for the benefits to be payable. This person may be different from the policyholder.\n"
     ]
    },
    {
     "name": "stdin",
     "output_type": "stream",
     "text": [
      "User:  How can i cancel this policy?\n"
     ]
    },
    {
     "name": "stdout",
     "output_type": "stream",
     "text": [
      "Result: You can cancel the policy by returning it to us within 30 days from the date of receipt, stating the reasons for cancellation.\n"
     ]
    },
    {
     "name": "stdin",
     "output_type": "stream",
     "text": [
      "User:  is there any lock in period in the policy?\n"
     ]
    },
    {
     "name": "stdout",
     "output_type": "stream",
     "text": [
      "Result: Yes, there is a lock-in period of five consecutive completed years from the Policy Commencement Date, during which the proceeds of the policies cannot be paid by the insurer. During this period, the policy will remain in discontinuance fund till the end of the lock-in period.\n"
     ]
    },
    {
     "name": "stdin",
     "output_type": "stream",
     "text": [
      "User:  who is Joe Biden?\n"
     ]
    },
    {
     "name": "stdout",
     "output_type": "stream",
     "text": [
      "Result: I don't know. The provided context appears to be related to a life insurance policy and does not mention Joe Biden, who is a public figure and the 46th President of the United States.\n"
     ]
    },
    {
     "ename": "KeyboardInterrupt",
     "evalue": "Interrupted by user",
     "output_type": "error",
     "traceback": [
      "\u001b[0;31m---------------------------------------------------------------------------\u001b[0m",
      "\u001b[0;31mKeyboardInterrupt\u001b[0m                         Traceback (most recent call last)",
      "Cell \u001b[0;32mIn[133], line 3\u001b[0m\n\u001b[1;32m      1\u001b[0m \u001b[38;5;66;03m# running the chat bot, \u001b[39;00m\n\u001b[1;32m      2\u001b[0m \u001b[38;5;28;01mwhile\u001b[39;00m \u001b[38;5;28;01mTrue\u001b[39;00m:\n\u001b[0;32m----> 3\u001b[0m     user_input \u001b[38;5;241m=\u001b[39m \u001b[38;5;28mstr\u001b[39m(\u001b[38;5;28minput\u001b[39m(\u001b[38;5;124m\"\u001b[39m\u001b[38;5;124mUser: \u001b[39m\u001b[38;5;124m\"\u001b[39m))\n\u001b[1;32m      4\u001b[0m     \u001b[38;5;28;01mif\u001b[39;00m user_input\u001b[38;5;241m.\u001b[39mlower() \u001b[38;5;129;01min\u001b[39;00m [\u001b[38;5;124m\"\u001b[39m\u001b[38;5;124mquit\u001b[39m\u001b[38;5;124m\"\u001b[39m, \u001b[38;5;124m\"\u001b[39m\u001b[38;5;124mq\u001b[39m\u001b[38;5;124m\"\u001b[39m, \u001b[38;5;124m\"\u001b[39m\u001b[38;5;124mexit\u001b[39m\u001b[38;5;124m\"\u001b[39m]:\n\u001b[1;32m      5\u001b[0m         \u001b[38;5;28;01mbreak\u001b[39;00m\n",
      "File \u001b[0;32m~/miniconda3/envs/langchain/lib/python3.11/site-packages/ipykernel/kernelbase.py:1282\u001b[0m, in \u001b[0;36mKernel.raw_input\u001b[0;34m(self, prompt)\u001b[0m\n\u001b[1;32m   1280\u001b[0m     msg \u001b[38;5;241m=\u001b[39m \u001b[38;5;124m\"\u001b[39m\u001b[38;5;124mraw_input was called, but this frontend does not support input requests.\u001b[39m\u001b[38;5;124m\"\u001b[39m\n\u001b[1;32m   1281\u001b[0m     \u001b[38;5;28;01mraise\u001b[39;00m StdinNotImplementedError(msg)\n\u001b[0;32m-> 1282\u001b[0m \u001b[38;5;28;01mreturn\u001b[39;00m \u001b[38;5;28mself\u001b[39m\u001b[38;5;241m.\u001b[39m_input_request(\n\u001b[1;32m   1283\u001b[0m     \u001b[38;5;28mstr\u001b[39m(prompt),\n\u001b[1;32m   1284\u001b[0m     \u001b[38;5;28mself\u001b[39m\u001b[38;5;241m.\u001b[39m_parent_ident[\u001b[38;5;124m\"\u001b[39m\u001b[38;5;124mshell\u001b[39m\u001b[38;5;124m\"\u001b[39m],\n\u001b[1;32m   1285\u001b[0m     \u001b[38;5;28mself\u001b[39m\u001b[38;5;241m.\u001b[39mget_parent(\u001b[38;5;124m\"\u001b[39m\u001b[38;5;124mshell\u001b[39m\u001b[38;5;124m\"\u001b[39m),\n\u001b[1;32m   1286\u001b[0m     password\u001b[38;5;241m=\u001b[39m\u001b[38;5;28;01mFalse\u001b[39;00m,\n\u001b[1;32m   1287\u001b[0m )\n",
      "File \u001b[0;32m~/miniconda3/envs/langchain/lib/python3.11/site-packages/ipykernel/kernelbase.py:1325\u001b[0m, in \u001b[0;36mKernel._input_request\u001b[0;34m(self, prompt, ident, parent, password)\u001b[0m\n\u001b[1;32m   1322\u001b[0m \u001b[38;5;28;01mexcept\u001b[39;00m \u001b[38;5;167;01mKeyboardInterrupt\u001b[39;00m:\n\u001b[1;32m   1323\u001b[0m     \u001b[38;5;66;03m# re-raise KeyboardInterrupt, to truncate traceback\u001b[39;00m\n\u001b[1;32m   1324\u001b[0m     msg \u001b[38;5;241m=\u001b[39m \u001b[38;5;124m\"\u001b[39m\u001b[38;5;124mInterrupted by user\u001b[39m\u001b[38;5;124m\"\u001b[39m\n\u001b[0;32m-> 1325\u001b[0m     \u001b[38;5;28;01mraise\u001b[39;00m \u001b[38;5;167;01mKeyboardInterrupt\u001b[39;00m(msg) \u001b[38;5;28;01mfrom\u001b[39;00m \u001b[38;5;28;01mNone\u001b[39;00m\n\u001b[1;32m   1326\u001b[0m \u001b[38;5;28;01mexcept\u001b[39;00m \u001b[38;5;167;01mException\u001b[39;00m:\n\u001b[1;32m   1327\u001b[0m     \u001b[38;5;28mself\u001b[39m\u001b[38;5;241m.\u001b[39mlog\u001b[38;5;241m.\u001b[39mwarning(\u001b[38;5;124m\"\u001b[39m\u001b[38;5;124mInvalid Message:\u001b[39m\u001b[38;5;124m\"\u001b[39m, exc_info\u001b[38;5;241m=\u001b[39m\u001b[38;5;28;01mTrue\u001b[39;00m)\n",
      "\u001b[0;31mKeyboardInterrupt\u001b[0m: Interrupted by user"
     ]
    },
    {
     "name": "stdin",
     "output_type": "stream",
     "text": [
      "User:  q\n"
     ]
    }
   ],
   "source": [
    "# running the chat bot, \n",
    "while True:\n",
    "    user_input = str(input(\"User: \"))\n",
    "    if user_input.lower() in [\"quit\", \"q\", \"exit\"]:\n",
    "        break\n",
    "    run_graph(user_input)"
   ]
  },
  {
   "cell_type": "code",
   "execution_count": null,
   "id": "0287f57a-2b90-4304-90e2-4be95a400511",
   "metadata": {},
   "outputs": [],
   "source": []
  }
 ],
 "metadata": {
  "kernelspec": {
   "display_name": "Python 3 (ipykernel)",
   "language": "python",
   "name": "python3"
  },
  "language_info": {
   "codemirror_mode": {
    "name": "ipython",
    "version": 3
   },
   "file_extension": ".py",
   "mimetype": "text/x-python",
   "name": "python",
   "nbconvert_exporter": "python",
   "pygments_lexer": "ipython3",
   "version": "3.11.11"
  }
 },
 "nbformat": 4,
 "nbformat_minor": 5
}
